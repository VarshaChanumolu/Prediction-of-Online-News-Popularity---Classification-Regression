{
  "cells": [
    {
      "cell_type": "markdown",
      "metadata": {
        "id": "view-in-github",
        "colab_type": "text"
      },
      "source": [
        "<a href=\"https://colab.research.google.com/github/VarshaChanumolu/Prediction-of-Online-News-Popularity---Classification-Regression/blob/main/Prediction%20of%20Online%20News%20Popularity%20-%20Regression.ipynb\" target=\"_parent\"><img src=\"https://colab.research.google.com/assets/colab-badge.svg\" alt=\"Open In Colab\"/></a>"
      ]
    },
    {
      "cell_type": "code",
      "execution_count": null,
      "id": "5ded052a",
      "metadata": {
        "id": "5ded052a"
      },
      "outputs": [],
      "source": [
        "import numpy as np\n",
        "import pandas as pd\n",
        "import matplotlib.pyplot as plt\n",
        "pd.set_option('display.max_columns', None)"
      ]
    },
    {
      "cell_type": "code",
      "execution_count": null,
      "id": "08fe9102",
      "metadata": {
        "id": "08fe9102",
        "outputId": "780adee6-c9dd-4f3a-cf7f-ab2e6fe17daa"
      },
      "outputs": [
        {
          "data": {
            "text/html": [
              "<div>\n",
              "<style scoped>\n",
              "    .dataframe tbody tr th:only-of-type {\n",
              "        vertical-align: middle;\n",
              "    }\n",
              "\n",
              "    .dataframe tbody tr th {\n",
              "        vertical-align: top;\n",
              "    }\n",
              "\n",
              "    .dataframe thead th {\n",
              "        text-align: right;\n",
              "    }\n",
              "</style>\n",
              "<table border=\"1\" class=\"dataframe\">\n",
              "  <thead>\n",
              "    <tr style=\"text-align: right;\">\n",
              "      <th></th>\n",
              "      <th>url</th>\n",
              "      <th>timedelta</th>\n",
              "      <th>n_tokens_title</th>\n",
              "      <th>n_tokens_content</th>\n",
              "      <th>n_unique_tokens</th>\n",
              "      <th>n_non_stop_words</th>\n",
              "      <th>n_non_stop_unique_tokens</th>\n",
              "      <th>num_hrefs</th>\n",
              "      <th>num_self_hrefs</th>\n",
              "      <th>num_imgs</th>\n",
              "      <th>num_videos</th>\n",
              "      <th>average_token_length</th>\n",
              "      <th>num_keywords</th>\n",
              "      <th>data_channel_is_lifestyle</th>\n",
              "      <th>data_channel_is_entertainment</th>\n",
              "      <th>data_channel_is_bus</th>\n",
              "      <th>data_channel_is_socmed</th>\n",
              "      <th>data_channel_is_tech</th>\n",
              "      <th>data_channel_is_world</th>\n",
              "      <th>kw_min_min</th>\n",
              "      <th>kw_max_min</th>\n",
              "      <th>kw_avg_min</th>\n",
              "      <th>kw_min_max</th>\n",
              "      <th>kw_max_max</th>\n",
              "      <th>kw_avg_max</th>\n",
              "      <th>kw_min_avg</th>\n",
              "      <th>kw_max_avg</th>\n",
              "      <th>kw_avg_avg</th>\n",
              "      <th>self_reference_min_shares</th>\n",
              "      <th>self_reference_max_shares</th>\n",
              "      <th>self_reference_avg_sharess</th>\n",
              "      <th>weekday_is_monday</th>\n",
              "      <th>weekday_is_tuesday</th>\n",
              "      <th>weekday_is_wednesday</th>\n",
              "      <th>weekday_is_thursday</th>\n",
              "      <th>weekday_is_friday</th>\n",
              "      <th>weekday_is_saturday</th>\n",
              "      <th>weekday_is_sunday</th>\n",
              "      <th>is_weekend</th>\n",
              "      <th>LDA_00</th>\n",
              "      <th>LDA_01</th>\n",
              "      <th>LDA_02</th>\n",
              "      <th>LDA_03</th>\n",
              "      <th>LDA_04</th>\n",
              "      <th>global_subjectivity</th>\n",
              "      <th>global_sentiment_polarity</th>\n",
              "      <th>global_rate_positive_words</th>\n",
              "      <th>global_rate_negative_words</th>\n",
              "      <th>rate_positive_words</th>\n",
              "      <th>rate_negative_words</th>\n",
              "      <th>avg_positive_polarity</th>\n",
              "      <th>min_positive_polarity</th>\n",
              "      <th>max_positive_polarity</th>\n",
              "      <th>avg_negative_polarity</th>\n",
              "      <th>min_negative_polarity</th>\n",
              "      <th>max_negative_polarity</th>\n",
              "      <th>title_subjectivity</th>\n",
              "      <th>title_sentiment_polarity</th>\n",
              "      <th>abs_title_subjectivity</th>\n",
              "      <th>abs_title_sentiment_polarity</th>\n",
              "      <th>shares</th>\n",
              "    </tr>\n",
              "  </thead>\n",
              "  <tbody>\n",
              "    <tr>\n",
              "      <th>0</th>\n",
              "      <td>http://mashable.com/2013/01/07/amazon-instant-...</td>\n",
              "      <td>731.0</td>\n",
              "      <td>12.0</td>\n",
              "      <td>219.0</td>\n",
              "      <td>0.663594</td>\n",
              "      <td>1.0</td>\n",
              "      <td>0.815385</td>\n",
              "      <td>4.0</td>\n",
              "      <td>2.0</td>\n",
              "      <td>1.0</td>\n",
              "      <td>0.0</td>\n",
              "      <td>4.680365</td>\n",
              "      <td>5.0</td>\n",
              "      <td>0.0</td>\n",
              "      <td>1.0</td>\n",
              "      <td>0.0</td>\n",
              "      <td>0.0</td>\n",
              "      <td>0.0</td>\n",
              "      <td>0.0</td>\n",
              "      <td>0.0</td>\n",
              "      <td>0.0</td>\n",
              "      <td>0.0</td>\n",
              "      <td>0.0</td>\n",
              "      <td>0.0</td>\n",
              "      <td>0.0</td>\n",
              "      <td>0.0</td>\n",
              "      <td>0.0</td>\n",
              "      <td>0.0</td>\n",
              "      <td>496.0</td>\n",
              "      <td>496.0</td>\n",
              "      <td>496.000000</td>\n",
              "      <td>1.0</td>\n",
              "      <td>0.0</td>\n",
              "      <td>0.0</td>\n",
              "      <td>0.0</td>\n",
              "      <td>0.0</td>\n",
              "      <td>0.0</td>\n",
              "      <td>0.0</td>\n",
              "      <td>0.0</td>\n",
              "      <td>0.500331</td>\n",
              "      <td>0.378279</td>\n",
              "      <td>0.040005</td>\n",
              "      <td>0.041263</td>\n",
              "      <td>0.040123</td>\n",
              "      <td>0.521617</td>\n",
              "      <td>0.092562</td>\n",
              "      <td>0.045662</td>\n",
              "      <td>0.013699</td>\n",
              "      <td>0.769231</td>\n",
              "      <td>0.230769</td>\n",
              "      <td>0.378636</td>\n",
              "      <td>0.100000</td>\n",
              "      <td>0.7</td>\n",
              "      <td>-0.350000</td>\n",
              "      <td>-0.600</td>\n",
              "      <td>-0.200000</td>\n",
              "      <td>0.500000</td>\n",
              "      <td>-0.187500</td>\n",
              "      <td>0.000000</td>\n",
              "      <td>0.187500</td>\n",
              "      <td>593</td>\n",
              "    </tr>\n",
              "    <tr>\n",
              "      <th>1</th>\n",
              "      <td>http://mashable.com/2013/01/07/ap-samsung-spon...</td>\n",
              "      <td>731.0</td>\n",
              "      <td>9.0</td>\n",
              "      <td>255.0</td>\n",
              "      <td>0.604743</td>\n",
              "      <td>1.0</td>\n",
              "      <td>0.791946</td>\n",
              "      <td>3.0</td>\n",
              "      <td>1.0</td>\n",
              "      <td>1.0</td>\n",
              "      <td>0.0</td>\n",
              "      <td>4.913725</td>\n",
              "      <td>4.0</td>\n",
              "      <td>0.0</td>\n",
              "      <td>0.0</td>\n",
              "      <td>1.0</td>\n",
              "      <td>0.0</td>\n",
              "      <td>0.0</td>\n",
              "      <td>0.0</td>\n",
              "      <td>0.0</td>\n",
              "      <td>0.0</td>\n",
              "      <td>0.0</td>\n",
              "      <td>0.0</td>\n",
              "      <td>0.0</td>\n",
              "      <td>0.0</td>\n",
              "      <td>0.0</td>\n",
              "      <td>0.0</td>\n",
              "      <td>0.0</td>\n",
              "      <td>0.0</td>\n",
              "      <td>0.0</td>\n",
              "      <td>0.000000</td>\n",
              "      <td>1.0</td>\n",
              "      <td>0.0</td>\n",
              "      <td>0.0</td>\n",
              "      <td>0.0</td>\n",
              "      <td>0.0</td>\n",
              "      <td>0.0</td>\n",
              "      <td>0.0</td>\n",
              "      <td>0.0</td>\n",
              "      <td>0.799756</td>\n",
              "      <td>0.050047</td>\n",
              "      <td>0.050096</td>\n",
              "      <td>0.050101</td>\n",
              "      <td>0.050001</td>\n",
              "      <td>0.341246</td>\n",
              "      <td>0.148948</td>\n",
              "      <td>0.043137</td>\n",
              "      <td>0.015686</td>\n",
              "      <td>0.733333</td>\n",
              "      <td>0.266667</td>\n",
              "      <td>0.286915</td>\n",
              "      <td>0.033333</td>\n",
              "      <td>0.7</td>\n",
              "      <td>-0.118750</td>\n",
              "      <td>-0.125</td>\n",
              "      <td>-0.100000</td>\n",
              "      <td>0.000000</td>\n",
              "      <td>0.000000</td>\n",
              "      <td>0.500000</td>\n",
              "      <td>0.000000</td>\n",
              "      <td>711</td>\n",
              "    </tr>\n",
              "    <tr>\n",
              "      <th>2</th>\n",
              "      <td>http://mashable.com/2013/01/07/apple-40-billio...</td>\n",
              "      <td>731.0</td>\n",
              "      <td>9.0</td>\n",
              "      <td>211.0</td>\n",
              "      <td>0.575130</td>\n",
              "      <td>1.0</td>\n",
              "      <td>0.663866</td>\n",
              "      <td>3.0</td>\n",
              "      <td>1.0</td>\n",
              "      <td>1.0</td>\n",
              "      <td>0.0</td>\n",
              "      <td>4.393365</td>\n",
              "      <td>6.0</td>\n",
              "      <td>0.0</td>\n",
              "      <td>0.0</td>\n",
              "      <td>1.0</td>\n",
              "      <td>0.0</td>\n",
              "      <td>0.0</td>\n",
              "      <td>0.0</td>\n",
              "      <td>0.0</td>\n",
              "      <td>0.0</td>\n",
              "      <td>0.0</td>\n",
              "      <td>0.0</td>\n",
              "      <td>0.0</td>\n",
              "      <td>0.0</td>\n",
              "      <td>0.0</td>\n",
              "      <td>0.0</td>\n",
              "      <td>0.0</td>\n",
              "      <td>918.0</td>\n",
              "      <td>918.0</td>\n",
              "      <td>918.000000</td>\n",
              "      <td>1.0</td>\n",
              "      <td>0.0</td>\n",
              "      <td>0.0</td>\n",
              "      <td>0.0</td>\n",
              "      <td>0.0</td>\n",
              "      <td>0.0</td>\n",
              "      <td>0.0</td>\n",
              "      <td>0.0</td>\n",
              "      <td>0.217792</td>\n",
              "      <td>0.033334</td>\n",
              "      <td>0.033351</td>\n",
              "      <td>0.033334</td>\n",
              "      <td>0.682188</td>\n",
              "      <td>0.702222</td>\n",
              "      <td>0.323333</td>\n",
              "      <td>0.056872</td>\n",
              "      <td>0.009479</td>\n",
              "      <td>0.857143</td>\n",
              "      <td>0.142857</td>\n",
              "      <td>0.495833</td>\n",
              "      <td>0.100000</td>\n",
              "      <td>1.0</td>\n",
              "      <td>-0.466667</td>\n",
              "      <td>-0.800</td>\n",
              "      <td>-0.133333</td>\n",
              "      <td>0.000000</td>\n",
              "      <td>0.000000</td>\n",
              "      <td>0.500000</td>\n",
              "      <td>0.000000</td>\n",
              "      <td>1500</td>\n",
              "    </tr>\n",
              "    <tr>\n",
              "      <th>3</th>\n",
              "      <td>http://mashable.com/2013/01/07/astronaut-notre...</td>\n",
              "      <td>731.0</td>\n",
              "      <td>9.0</td>\n",
              "      <td>531.0</td>\n",
              "      <td>0.503788</td>\n",
              "      <td>1.0</td>\n",
              "      <td>0.665635</td>\n",
              "      <td>9.0</td>\n",
              "      <td>0.0</td>\n",
              "      <td>1.0</td>\n",
              "      <td>0.0</td>\n",
              "      <td>4.404896</td>\n",
              "      <td>7.0</td>\n",
              "      <td>0.0</td>\n",
              "      <td>1.0</td>\n",
              "      <td>0.0</td>\n",
              "      <td>0.0</td>\n",
              "      <td>0.0</td>\n",
              "      <td>0.0</td>\n",
              "      <td>0.0</td>\n",
              "      <td>0.0</td>\n",
              "      <td>0.0</td>\n",
              "      <td>0.0</td>\n",
              "      <td>0.0</td>\n",
              "      <td>0.0</td>\n",
              "      <td>0.0</td>\n",
              "      <td>0.0</td>\n",
              "      <td>0.0</td>\n",
              "      <td>0.0</td>\n",
              "      <td>0.0</td>\n",
              "      <td>0.000000</td>\n",
              "      <td>1.0</td>\n",
              "      <td>0.0</td>\n",
              "      <td>0.0</td>\n",
              "      <td>0.0</td>\n",
              "      <td>0.0</td>\n",
              "      <td>0.0</td>\n",
              "      <td>0.0</td>\n",
              "      <td>0.0</td>\n",
              "      <td>0.028573</td>\n",
              "      <td>0.419300</td>\n",
              "      <td>0.494651</td>\n",
              "      <td>0.028905</td>\n",
              "      <td>0.028572</td>\n",
              "      <td>0.429850</td>\n",
              "      <td>0.100705</td>\n",
              "      <td>0.041431</td>\n",
              "      <td>0.020716</td>\n",
              "      <td>0.666667</td>\n",
              "      <td>0.333333</td>\n",
              "      <td>0.385965</td>\n",
              "      <td>0.136364</td>\n",
              "      <td>0.8</td>\n",
              "      <td>-0.369697</td>\n",
              "      <td>-0.600</td>\n",
              "      <td>-0.166667</td>\n",
              "      <td>0.000000</td>\n",
              "      <td>0.000000</td>\n",
              "      <td>0.500000</td>\n",
              "      <td>0.000000</td>\n",
              "      <td>1200</td>\n",
              "    </tr>\n",
              "    <tr>\n",
              "      <th>4</th>\n",
              "      <td>http://mashable.com/2013/01/07/att-u-verse-apps/</td>\n",
              "      <td>731.0</td>\n",
              "      <td>13.0</td>\n",
              "      <td>1072.0</td>\n",
              "      <td>0.415646</td>\n",
              "      <td>1.0</td>\n",
              "      <td>0.540890</td>\n",
              "      <td>19.0</td>\n",
              "      <td>19.0</td>\n",
              "      <td>20.0</td>\n",
              "      <td>0.0</td>\n",
              "      <td>4.682836</td>\n",
              "      <td>7.0</td>\n",
              "      <td>0.0</td>\n",
              "      <td>0.0</td>\n",
              "      <td>0.0</td>\n",
              "      <td>0.0</td>\n",
              "      <td>1.0</td>\n",
              "      <td>0.0</td>\n",
              "      <td>0.0</td>\n",
              "      <td>0.0</td>\n",
              "      <td>0.0</td>\n",
              "      <td>0.0</td>\n",
              "      <td>0.0</td>\n",
              "      <td>0.0</td>\n",
              "      <td>0.0</td>\n",
              "      <td>0.0</td>\n",
              "      <td>0.0</td>\n",
              "      <td>545.0</td>\n",
              "      <td>16000.0</td>\n",
              "      <td>3151.157895</td>\n",
              "      <td>1.0</td>\n",
              "      <td>0.0</td>\n",
              "      <td>0.0</td>\n",
              "      <td>0.0</td>\n",
              "      <td>0.0</td>\n",
              "      <td>0.0</td>\n",
              "      <td>0.0</td>\n",
              "      <td>0.0</td>\n",
              "      <td>0.028633</td>\n",
              "      <td>0.028794</td>\n",
              "      <td>0.028575</td>\n",
              "      <td>0.028572</td>\n",
              "      <td>0.885427</td>\n",
              "      <td>0.513502</td>\n",
              "      <td>0.281003</td>\n",
              "      <td>0.074627</td>\n",
              "      <td>0.012127</td>\n",
              "      <td>0.860215</td>\n",
              "      <td>0.139785</td>\n",
              "      <td>0.411127</td>\n",
              "      <td>0.033333</td>\n",
              "      <td>1.0</td>\n",
              "      <td>-0.220192</td>\n",
              "      <td>-0.500</td>\n",
              "      <td>-0.050000</td>\n",
              "      <td>0.454545</td>\n",
              "      <td>0.136364</td>\n",
              "      <td>0.045455</td>\n",
              "      <td>0.136364</td>\n",
              "      <td>505</td>\n",
              "    </tr>\n",
              "  </tbody>\n",
              "</table>\n",
              "</div>"
            ],
            "text/plain": [
              "                                                 url   timedelta  \\\n",
              "0  http://mashable.com/2013/01/07/amazon-instant-...       731.0   \n",
              "1  http://mashable.com/2013/01/07/ap-samsung-spon...       731.0   \n",
              "2  http://mashable.com/2013/01/07/apple-40-billio...       731.0   \n",
              "3  http://mashable.com/2013/01/07/astronaut-notre...       731.0   \n",
              "4   http://mashable.com/2013/01/07/att-u-verse-apps/       731.0   \n",
              "\n",
              "    n_tokens_title   n_tokens_content   n_unique_tokens   n_non_stop_words  \\\n",
              "0             12.0              219.0          0.663594                1.0   \n",
              "1              9.0              255.0          0.604743                1.0   \n",
              "2              9.0              211.0          0.575130                1.0   \n",
              "3              9.0              531.0          0.503788                1.0   \n",
              "4             13.0             1072.0          0.415646                1.0   \n",
              "\n",
              "    n_non_stop_unique_tokens   num_hrefs   num_self_hrefs   num_imgs  \\\n",
              "0                   0.815385         4.0              2.0        1.0   \n",
              "1                   0.791946         3.0              1.0        1.0   \n",
              "2                   0.663866         3.0              1.0        1.0   \n",
              "3                   0.665635         9.0              0.0        1.0   \n",
              "4                   0.540890        19.0             19.0       20.0   \n",
              "\n",
              "    num_videos   average_token_length   num_keywords  \\\n",
              "0          0.0               4.680365            5.0   \n",
              "1          0.0               4.913725            4.0   \n",
              "2          0.0               4.393365            6.0   \n",
              "3          0.0               4.404896            7.0   \n",
              "4          0.0               4.682836            7.0   \n",
              "\n",
              "    data_channel_is_lifestyle   data_channel_is_entertainment  \\\n",
              "0                         0.0                             1.0   \n",
              "1                         0.0                             0.0   \n",
              "2                         0.0                             0.0   \n",
              "3                         0.0                             1.0   \n",
              "4                         0.0                             0.0   \n",
              "\n",
              "    data_channel_is_bus   data_channel_is_socmed   data_channel_is_tech  \\\n",
              "0                   0.0                      0.0                    0.0   \n",
              "1                   1.0                      0.0                    0.0   \n",
              "2                   1.0                      0.0                    0.0   \n",
              "3                   0.0                      0.0                    0.0   \n",
              "4                   0.0                      0.0                    1.0   \n",
              "\n",
              "    data_channel_is_world   kw_min_min   kw_max_min   kw_avg_min   kw_min_max  \\\n",
              "0                     0.0          0.0          0.0          0.0          0.0   \n",
              "1                     0.0          0.0          0.0          0.0          0.0   \n",
              "2                     0.0          0.0          0.0          0.0          0.0   \n",
              "3                     0.0          0.0          0.0          0.0          0.0   \n",
              "4                     0.0          0.0          0.0          0.0          0.0   \n",
              "\n",
              "    kw_max_max   kw_avg_max   kw_min_avg   kw_max_avg   kw_avg_avg  \\\n",
              "0          0.0          0.0          0.0          0.0          0.0   \n",
              "1          0.0          0.0          0.0          0.0          0.0   \n",
              "2          0.0          0.0          0.0          0.0          0.0   \n",
              "3          0.0          0.0          0.0          0.0          0.0   \n",
              "4          0.0          0.0          0.0          0.0          0.0   \n",
              "\n",
              "    self_reference_min_shares   self_reference_max_shares  \\\n",
              "0                       496.0                       496.0   \n",
              "1                         0.0                         0.0   \n",
              "2                       918.0                       918.0   \n",
              "3                         0.0                         0.0   \n",
              "4                       545.0                     16000.0   \n",
              "\n",
              "    self_reference_avg_sharess   weekday_is_monday   weekday_is_tuesday  \\\n",
              "0                   496.000000                 1.0                  0.0   \n",
              "1                     0.000000                 1.0                  0.0   \n",
              "2                   918.000000                 1.0                  0.0   \n",
              "3                     0.000000                 1.0                  0.0   \n",
              "4                  3151.157895                 1.0                  0.0   \n",
              "\n",
              "    weekday_is_wednesday   weekday_is_thursday   weekday_is_friday  \\\n",
              "0                    0.0                   0.0                 0.0   \n",
              "1                    0.0                   0.0                 0.0   \n",
              "2                    0.0                   0.0                 0.0   \n",
              "3                    0.0                   0.0                 0.0   \n",
              "4                    0.0                   0.0                 0.0   \n",
              "\n",
              "    weekday_is_saturday   weekday_is_sunday   is_weekend    LDA_00    LDA_01  \\\n",
              "0                   0.0                 0.0          0.0  0.500331  0.378279   \n",
              "1                   0.0                 0.0          0.0  0.799756  0.050047   \n",
              "2                   0.0                 0.0          0.0  0.217792  0.033334   \n",
              "3                   0.0                 0.0          0.0  0.028573  0.419300   \n",
              "4                   0.0                 0.0          0.0  0.028633  0.028794   \n",
              "\n",
              "     LDA_02    LDA_03    LDA_04   global_subjectivity  \\\n",
              "0  0.040005  0.041263  0.040123              0.521617   \n",
              "1  0.050096  0.050101  0.050001              0.341246   \n",
              "2  0.033351  0.033334  0.682188              0.702222   \n",
              "3  0.494651  0.028905  0.028572              0.429850   \n",
              "4  0.028575  0.028572  0.885427              0.513502   \n",
              "\n",
              "    global_sentiment_polarity   global_rate_positive_words  \\\n",
              "0                    0.092562                     0.045662   \n",
              "1                    0.148948                     0.043137   \n",
              "2                    0.323333                     0.056872   \n",
              "3                    0.100705                     0.041431   \n",
              "4                    0.281003                     0.074627   \n",
              "\n",
              "    global_rate_negative_words   rate_positive_words   rate_negative_words  \\\n",
              "0                     0.013699              0.769231              0.230769   \n",
              "1                     0.015686              0.733333              0.266667   \n",
              "2                     0.009479              0.857143              0.142857   \n",
              "3                     0.020716              0.666667              0.333333   \n",
              "4                     0.012127              0.860215              0.139785   \n",
              "\n",
              "    avg_positive_polarity   min_positive_polarity   max_positive_polarity  \\\n",
              "0                0.378636                0.100000                     0.7   \n",
              "1                0.286915                0.033333                     0.7   \n",
              "2                0.495833                0.100000                     1.0   \n",
              "3                0.385965                0.136364                     0.8   \n",
              "4                0.411127                0.033333                     1.0   \n",
              "\n",
              "    avg_negative_polarity   min_negative_polarity   max_negative_polarity  \\\n",
              "0               -0.350000                  -0.600               -0.200000   \n",
              "1               -0.118750                  -0.125               -0.100000   \n",
              "2               -0.466667                  -0.800               -0.133333   \n",
              "3               -0.369697                  -0.600               -0.166667   \n",
              "4               -0.220192                  -0.500               -0.050000   \n",
              "\n",
              "    title_subjectivity   title_sentiment_polarity   abs_title_subjectivity  \\\n",
              "0             0.500000                  -0.187500                 0.000000   \n",
              "1             0.000000                   0.000000                 0.500000   \n",
              "2             0.000000                   0.000000                 0.500000   \n",
              "3             0.000000                   0.000000                 0.500000   \n",
              "4             0.454545                   0.136364                 0.045455   \n",
              "\n",
              "    abs_title_sentiment_polarity   shares  \n",
              "0                       0.187500      593  \n",
              "1                       0.000000      711  \n",
              "2                       0.000000     1500  \n",
              "3                       0.000000     1200  \n",
              "4                       0.136364      505  "
            ]
          },
          "execution_count": 60,
          "metadata": {},
          "output_type": "execute_result"
        }
      ],
      "source": [
        "Onews = pd.read_csv('OnlineNewsPopularity.csv')\n",
        "Onews.head()"
      ]
    },
    {
      "cell_type": "code",
      "execution_count": null,
      "id": "1557d36d",
      "metadata": {
        "id": "1557d36d"
      },
      "outputs": [],
      "source": [
        "Onews.columns = Onews.columns.str.replace(' ', '')"
      ]
    },
    {
      "cell_type": "code",
      "execution_count": null,
      "id": "3d36aa50",
      "metadata": {
        "id": "3d36aa50"
      },
      "outputs": [],
      "source": [
        "Onews = Onews.drop(['url'], axis = 1)"
      ]
    },
    {
      "cell_type": "code",
      "execution_count": null,
      "id": "110ce99e",
      "metadata": {
        "id": "110ce99e",
        "outputId": "38ad6f7a-94ce-42bb-a6a0-5159cbc54f2c"
      },
      "outputs": [
        {
          "data": {
            "text/plain": [
              "(38463, 60)"
            ]
          },
          "execution_count": 63,
          "metadata": {},
          "output_type": "execute_result"
        }
      ],
      "source": [
        "Onews = Onews[Onews['n_tokens_content'] != 0]\n",
        "Onews.shape"
      ]
    },
    {
      "cell_type": "code",
      "execution_count": null,
      "id": "2073b3ff",
      "metadata": {
        "id": "2073b3ff",
        "outputId": "d8194880-d7e9-45ab-e00d-92cdec7f55d8"
      },
      "outputs": [
        {
          "data": {
            "text/plain": [
              "(16549, 60)"
            ]
          },
          "execution_count": 64,
          "metadata": {},
          "output_type": "execute_result"
        }
      ],
      "source": [
        "Onews = Onews[Onews['kw_min_min'] != -1]\n",
        "Onews.shape"
      ]
    },
    {
      "cell_type": "code",
      "execution_count": null,
      "id": "4121c8c9",
      "metadata": {
        "id": "4121c8c9",
        "outputId": "8b66a66b-3acf-48fb-ae05-b8cf02eb29e8"
      },
      "outputs": [
        {
          "data": {
            "text/plain": [
              "(16549, 57)"
            ]
          },
          "execution_count": 65,
          "metadata": {},
          "output_type": "execute_result"
        }
      ],
      "source": [
        "OnewsN = Onews.drop(['self_reference_min_shares','self_reference_max_shares', 'self_reference_avg_sharess'], axis = 1)\n",
        "OnewsN.shape"
      ]
    },
    {
      "cell_type": "code",
      "execution_count": null,
      "id": "743d42ef",
      "metadata": {
        "id": "743d42ef",
        "outputId": "36e21534-a94d-40ac-fff4-e730de60b379"
      },
      "outputs": [
        {
          "data": {
            "text/plain": [
              "(16549, 56)"
            ]
          },
          "execution_count": 66,
          "metadata": {},
          "output_type": "execute_result"
        }
      ],
      "source": [
        "OnewsN = OnewsN.drop(['is_weekend'], axis = 1)\n",
        "OnewsN.shape"
      ]
    },
    {
      "cell_type": "code",
      "execution_count": null,
      "id": "2d7513de",
      "metadata": {
        "id": "2d7513de"
      },
      "outputs": [],
      "source": [
        "def outliers(df, columns = None):\n",
        "    if not columns:\n",
        "        columns = df.columns\n",
        "    \n",
        "    for c in columns:\n",
        "        Q1 = df[c].quantile(0.25)\n",
        "        Q3 = df[c].quantile(0.75)\n",
        "        IQR = Q3 - Q1\n",
        "        floor, ceil = Q1 - 1.5*IQR, Q3 + 1.5*IQR\n",
        "        \n",
        "        df = df[(df[c] >= floor) & (df[c] <= ceil)]\n",
        "    return df"
      ]
    },
    {
      "cell_type": "code",
      "execution_count": null,
      "id": "a1dc5627",
      "metadata": {
        "id": "a1dc5627"
      },
      "outputs": [],
      "source": [
        "OnewsNew = outliers(OnewsN,['shares'])"
      ]
    },
    {
      "cell_type": "code",
      "execution_count": null,
      "id": "c18f8e3e",
      "metadata": {
        "id": "c18f8e3e"
      },
      "outputs": [],
      "source": [
        "import seaborn as sns"
      ]
    },
    {
      "cell_type": "code",
      "execution_count": null,
      "id": "e95b0d3d",
      "metadata": {
        "id": "e95b0d3d",
        "outputId": "3ff07b4e-c14b-4aa4-e65e-11603b869abf"
      },
      "outputs": [
        {
          "name": "stderr",
          "output_type": "stream",
          "text": [
            "C:\\Users\\DELL\\anaconda3\\lib\\site-packages\\seaborn\\_decorators.py:36: FutureWarning: Pass the following variable as a keyword arg: x. From version 0.12, the only valid positional argument will be `data`, and passing other arguments without an explicit keyword will result in an error or misinterpretation.\n",
            "  warnings.warn(\n"
          ]
        },
        {
          "data": {
            "text/plain": [
              "<AxesSubplot:xlabel='shares'>"
            ]
          },
          "execution_count": 70,
          "metadata": {},
          "output_type": "execute_result"
        },
        {
          "data": {
            "image/png": "[encoded data removed]",
            "text/plain": [
              "<Figure size 432x288 with 1 Axes>"
            ]
          },
          "metadata": {
            "needs_background": "light"
          },
          "output_type": "display_data"
        }
      ],
      "source": [
        "sns.boxplot(OnewsNew['shares'])"
      ]
    },
    {
      "cell_type": "code",
      "execution_count": null,
      "id": "c28151e3",
      "metadata": {
        "id": "c28151e3",
        "outputId": "dced2b71-ac06-479d-d8ad-655cc4ec1d96"
      },
      "outputs": [
        {
          "name": "stderr",
          "output_type": "stream",
          "text": [
            "C:\\Users\\DELL\\anaconda3\\lib\\site-packages\\seaborn\\_decorators.py:36: FutureWarning: Pass the following variable as a keyword arg: x. From version 0.12, the only valid positional argument will be `data`, and passing other arguments without an explicit keyword will result in an error or misinterpretation.\n",
            "  warnings.warn(\n"
          ]
        },
        {
          "data": {
            "text/plain": [
              "<AxesSubplot:xlabel='shares'>"
            ]
          },
          "execution_count": 71,
          "metadata": {},
          "output_type": "execute_result"
        },
        {
          "data": {
            "image/png": "[encoded data removed]",
            "text/plain": [
              "<Figure size 432x288 with 1 Axes>"
            ]
          },
          "metadata": {
            "needs_background": "light"
          },
          "output_type": "display_data"
        }
      ],
      "source": [
        "OnewsNew1 = outliers(OnewsNew, ['shares'])\n",
        "sns.boxplot(OnewsNew1['shares'])"
      ]
    },
    {
      "cell_type": "code",
      "execution_count": null,
      "id": "7a2ce1db",
      "metadata": {
        "id": "7a2ce1db",
        "outputId": "eb5ec994-b55c-4afd-bfb8-fe73520d2f62"
      },
      "outputs": [
        {
          "name": "stderr",
          "output_type": "stream",
          "text": [
            "C:\\Users\\DELL\\anaconda3\\lib\\site-packages\\seaborn\\_decorators.py:36: FutureWarning: Pass the following variable as a keyword arg: x. From version 0.12, the only valid positional argument will be `data`, and passing other arguments without an explicit keyword will result in an error or misinterpretation.\n",
            "  warnings.warn(\n"
          ]
        },
        {
          "data": {
            "text/plain": [
              "<AxesSubplot:xlabel='shares'>"
            ]
          },
          "execution_count": 72,
          "metadata": {},
          "output_type": "execute_result"
        },
        {
          "data": {
            "image/png": "[encoded data removed]",
            "text/plain": [
              "<Figure size 432x288 with 1 Axes>"
            ]
          },
          "metadata": {
            "needs_background": "light"
          },
          "output_type": "display_data"
        }
      ],
      "source": [
        "OnewsNew2 = outliers(OnewsNew1, ['shares'])\n",
        "sns.boxplot(OnewsNew2['shares'])"
      ]
    },
    {
      "cell_type": "code",
      "execution_count": null,
      "id": "d60e52b1",
      "metadata": {
        "id": "d60e52b1"
      },
      "outputs": [],
      "source": [
        "col = ['n_tokens_content', \n",
        "      'n_unique_tokens',\n",
        "      'kw_max_max', 'kw_max_min', 'kw_max_avg',\n",
        "      'rate_positive_words', 'rate_negative_words',\n",
        "      'avg_negative_polarity','avg_positive_polarity','title_subjectivity']\n",
        "\n",
        "OnewsNew3 = OnewsNew2.drop(col, axis = 1)"
      ]
    },
    {
      "cell_type": "code",
      "execution_count": null,
      "id": "5ea43f92",
      "metadata": {
        "id": "5ea43f92"
      },
      "outputs": [],
      "source": [
        "from sklearn.model_selection import train_test_split"
      ]
    },
    {
      "cell_type": "code",
      "execution_count": null,
      "id": "9f089a0c",
      "metadata": {
        "id": "9f089a0c"
      },
      "outputs": [],
      "source": [
        "X = OnewsNew3.drop(['shares'], axis = 1)\n",
        "Y = OnewsNew3[['shares']]\n",
        "\n",
        "X_train, X_test, y_train, y_test = train_test_split(X, Y, train_size = 0.7, random_state = 100)"
      ]
    },
    {
      "cell_type": "markdown",
      "id": "b5dc5129",
      "metadata": {
        "id": "b5dc5129"
      },
      "source": [
        "## Lasso"
      ]
    },
    {
      "cell_type": "code",
      "execution_count": null,
      "id": "57c66217",
      "metadata": {
        "id": "57c66217"
      },
      "outputs": [],
      "source": [
        "from sklearn.linear_model import Lasso\n",
        "from sklearn.metrics import r2_score\n",
        "from sklearn.model_selection import cross_val_score,RepeatedKFold,GridSearchCV"
      ]
    },
    {
      "cell_type": "code",
      "execution_count": null,
      "id": "b34829b5",
      "metadata": {
        "id": "b34829b5",
        "outputId": "f80b9811-3bb1-45b0-ddc4-30ac333d410d"
      },
      "outputs": [
        {
          "data": {
            "text/plain": [
              "0.08623086453821671"
            ]
          },
          "execution_count": 77,
          "metadata": {},
          "output_type": "execute_result"
        }
      ],
      "source": [
        "lasso = Lasso(normalize = True, alpha = 0.2)\n",
        "lasso.fit(X_train, y_train)\n",
        "y_pred = lasso.predict(X_test)\n",
        "r2_score(y_test, y_pred)"
      ]
    },
    {
      "cell_type": "code",
      "execution_count": null,
      "id": "7fb4dde3",
      "metadata": {
        "id": "7fb4dde3",
        "outputId": "6820dd03-64ea-4a2c-fdda-6c51c0c946cf"
      },
      "outputs": [
        {
          "name": "stderr",
          "output_type": "stream",
          "text": [
            "C:\\Users\\DELL\\anaconda3\\lib\\site-packages\\sklearn\\model_selection\\_search.py:880: UserWarning: With alpha=0, this algorithm does not converge well. You are advised to use the LinearRegression estimator\n",
            "  self.best_estimator_.fit(X, y, **fit_params)\n",
            "C:\\Users\\DELL\\anaconda3\\lib\\site-packages\\sklearn\\linear_model\\_coordinate_descent.py:530: UserWarning: Coordinate descent with no regularization may lead to unexpected results and is discouraged.\n",
            "  model = cd_fast.enet_coordinate_descent(\n",
            "C:\\Users\\DELL\\anaconda3\\lib\\site-packages\\sklearn\\linear_model\\_coordinate_descent.py:530: ConvergenceWarning: Objective did not converge. You might want to increase the number of iterations. Duality gap: 3862896331.2755613, tolerance: 860501.3224760293\n",
            "  model = cd_fast.enet_coordinate_descent(\n"
          ]
        }
      ],
      "source": [
        "lasso = Lasso(normalize = True)\n",
        "\n",
        "cv = RepeatedKFold(n_splits = 100, n_repeats = 2)\n",
        "grid = {}\n",
        "grid['alpha'] = np.arange(0, 0.05, 0.01)\n",
        "\n",
        "search = GridSearchCV(lasso, grid,scoring = \"neg_mean_absolute_error\", cv = cv, n_jobs = -1 )\n",
        "\n",
        "\n",
        "res = search.fit(X, Y)"
      ]
    },
    {
      "cell_type": "code",
      "execution_count": null,
      "id": "a8a294eb",
      "metadata": {
        "id": "a8a294eb",
        "outputId": "bf422fb6-e244-48b4-e0f1-fb7c6e1d80b5"
      },
      "outputs": [
        {
          "data": {
            "text/plain": [
              "Lasso(alpha=0.0, normalize=True)"
            ]
          },
          "execution_count": 79,
          "metadata": {},
          "output_type": "execute_result"
        }
      ],
      "source": [
        "search.best_estimator_"
      ]
    },
    {
      "cell_type": "code",
      "execution_count": null,
      "id": "eb73cc4f",
      "metadata": {
        "id": "eb73cc4f",
        "outputId": "7dba03ba-dfd9-4c71-e542-a4ecce015e8d"
      },
      "outputs": [
        {
          "name": "stderr",
          "output_type": "stream",
          "text": [
            "<ipython-input-80-80ef8411c8b5>:3: UserWarning: With alpha=0, this algorithm does not converge well. You are advised to use the LinearRegression estimator\n",
            "  lassoBest.fit(X_train, y_train)\n",
            "C:\\Users\\DELL\\anaconda3\\lib\\site-packages\\sklearn\\linear_model\\_coordinate_descent.py:530: UserWarning: Coordinate descent with no regularization may lead to unexpected results and is discouraged.\n",
            "  model = cd_fast.enet_coordinate_descent(\n",
            "C:\\Users\\DELL\\anaconda3\\lib\\site-packages\\sklearn\\linear_model\\_coordinate_descent.py:530: ConvergenceWarning: Objective did not converge. You might want to increase the number of iterations. Duality gap: 2738198228.1593704, tolerance: 611439.0170510174\n",
            "  model = cd_fast.enet_coordinate_descent(\n"
          ]
        },
        {
          "data": {
            "text/plain": [
              "0.09124551825567384"
            ]
          },
          "execution_count": 80,
          "metadata": {},
          "output_type": "execute_result"
        }
      ],
      "source": [
        "#lassoBest = Lasso(normalize = True, alpha = 0)\n",
        "lassoBest = search.best_estimator_\n",
        "lassoBest.fit(X_train, y_train)\n",
        "y_pred = lassoBest.predict(X_test)\n",
        "r2_score(y_test, y_pred)"
      ]
    },
    {
      "cell_type": "code",
      "execution_count": null,
      "id": "272675c9",
      "metadata": {
        "id": "272675c9",
        "outputId": "96d217ba-2123-4644-af4d-43e23052c57f"
      },
      "outputs": [
        {
          "data": {
            "text/plain": [
              "array([ 7.55434798e-01, -2.24973350e+00, -7.17543961e+09, -5.34089085e+02,\n",
              "        1.22886249e+00, -2.20409263e+00, -1.77148026e+00,  2.41935940e+00,\n",
              "       -3.53170960e+01,  3.69275957e-01, -1.43783926e+01, -1.09277525e+02,\n",
              "       -1.48120706e+02,  2.63828718e+02,  1.06548721e+02, -1.27657273e+01,\n",
              "        5.01986003e-01, -9.48438400e-02, -2.29103216e-04, -2.22257411e-05,\n",
              "        6.33042185e-03,  1.19519990e-01, -9.05292408e+01, -1.39722326e+02,\n",
              "       -1.20735451e+02, -1.20780893e+02, -1.44004947e+00,  2.75491121e+02,\n",
              "        2.15293063e+02,  3.14848536e+02, -7.96661123e+01, -1.34659711e+02,\n",
              "       -1.60111345e+02,  1.29402437e+02,  2.85078677e+02, -1.39405003e+02,\n",
              "        2.40162747e+02, -3.24098300e+02, -4.91130026e+02, -2.01978809e+01,\n",
              "       -3.88067928e+00, -6.03970841e+01,  9.61934805e+01,  2.61944713e+02,\n",
              "        8.00424324e+01])"
            ]
          },
          "execution_count": 81,
          "metadata": {},
          "output_type": "execute_result"
        }
      ],
      "source": [
        "lassoBest.coef_"
      ]
    },
    {
      "cell_type": "code",
      "execution_count": null,
      "id": "c4ff8d89",
      "metadata": {
        "id": "c4ff8d89",
        "outputId": "9cb23246-43cb-4e1c-eee3-abe39abef303"
      },
      "outputs": [
        {
          "name": "stdout",
          "output_type": "stream",
          "text": [
            "<class 'pandas.core.frame.DataFrame'>\n",
            "Int64Index: 13554 entries, 0 to 24284\n",
            "Data columns (total 56 columns):\n",
            " #   Column                         Non-Null Count  Dtype  \n",
            "---  ------                         --------------  -----  \n",
            " 0   timedelta                      13554 non-null  float64\n",
            " 1   n_tokens_title                 13554 non-null  float64\n",
            " 2   n_tokens_content               13554 non-null  float64\n",
            " 3   n_unique_tokens                13554 non-null  float64\n",
            " 4   n_non_stop_words               13554 non-null  float64\n",
            " 5   n_non_stop_unique_tokens       13554 non-null  float64\n",
            " 6   num_hrefs                      13554 non-null  float64\n",
            " 7   num_self_hrefs                 13554 non-null  float64\n",
            " 8   num_imgs                       13554 non-null  float64\n",
            " 9   num_videos                     13554 non-null  float64\n",
            " 10  average_token_length           13554 non-null  float64\n",
            " 11  num_keywords                   13554 non-null  float64\n",
            " 12  data_channel_is_lifestyle      13554 non-null  float64\n",
            " 13  data_channel_is_entertainment  13554 non-null  float64\n",
            " 14  data_channel_is_bus            13554 non-null  float64\n",
            " 15  data_channel_is_socmed         13554 non-null  float64\n",
            " 16  data_channel_is_tech           13554 non-null  float64\n",
            " 17  data_channel_is_world          13554 non-null  float64\n",
            " 18  kw_min_min                     13554 non-null  float64\n",
            " 19  kw_max_min                     13554 non-null  float64\n",
            " 20  kw_avg_min                     13554 non-null  float64\n",
            " 21  kw_min_max                     13554 non-null  float64\n",
            " 22  kw_max_max                     13554 non-null  float64\n",
            " 23  kw_avg_max                     13554 non-null  float64\n",
            " 24  kw_min_avg                     13554 non-null  float64\n",
            " 25  kw_max_avg                     13554 non-null  float64\n",
            " 26  kw_avg_avg                     13554 non-null  float64\n",
            " 27  weekday_is_monday              13554 non-null  float64\n",
            " 28  weekday_is_tuesday             13554 non-null  float64\n",
            " 29  weekday_is_wednesday           13554 non-null  float64\n",
            " 30  weekday_is_thursday            13554 non-null  float64\n",
            " 31  weekday_is_friday              13554 non-null  float64\n",
            " 32  weekday_is_saturday            13554 non-null  float64\n",
            " 33  weekday_is_sunday              13554 non-null  float64\n",
            " 34  LDA_00                         13554 non-null  float64\n",
            " 35  LDA_01                         13554 non-null  float64\n",
            " 36  LDA_02                         13554 non-null  float64\n",
            " 37  LDA_03                         13554 non-null  float64\n",
            " 38  LDA_04                         13554 non-null  float64\n",
            " 39  global_subjectivity            13554 non-null  float64\n",
            " 40  global_sentiment_polarity      13554 non-null  float64\n",
            " 41  global_rate_positive_words     13554 non-null  float64\n",
            " 42  global_rate_negative_words     13554 non-null  float64\n",
            " 43  rate_positive_words            13554 non-null  float64\n",
            " 44  rate_negative_words            13554 non-null  float64\n",
            " 45  avg_positive_polarity          13554 non-null  float64\n",
            " 46  min_positive_polarity          13554 non-null  float64\n",
            " 47  max_positive_polarity          13554 non-null  float64\n",
            " 48  avg_negative_polarity          13554 non-null  float64\n",
            " 49  min_negative_polarity          13554 non-null  float64\n",
            " 50  max_negative_polarity          13554 non-null  float64\n",
            " 51  title_subjectivity             13554 non-null  float64\n",
            " 52  title_sentiment_polarity       13554 non-null  float64\n",
            " 53  abs_title_subjectivity         13554 non-null  float64\n",
            " 54  abs_title_sentiment_polarity   13554 non-null  float64\n",
            " 55  shares                         13554 non-null  int64  \n",
            "dtypes: float64(55), int64(1)\n",
            "memory usage: 5.9 MB\n"
          ]
        }
      ],
      "source": [
        "OnewsNew2.info()"
      ]
    },
    {
      "cell_type": "markdown",
      "id": "d2d444fc",
      "metadata": {
        "id": "d2d444fc"
      },
      "source": [
        "## Multiple Linear Regression"
      ]
    },
    {
      "cell_type": "code",
      "execution_count": null,
      "id": "f1d011c0",
      "metadata": {
        "id": "f1d011c0"
      },
      "outputs": [],
      "source": [
        "from sklearn.linear_model import LinearRegression"
      ]
    },
    {
      "cell_type": "code",
      "execution_count": null,
      "id": "93c30ae2",
      "metadata": {
        "id": "93c30ae2"
      },
      "outputs": [],
      "source": [
        "lReg = LinearRegression(normalize = True)\n",
        "lReg.fit(X_train, y_train)\n",
        "y_pred = lReg.predict(X_test)"
      ]
    },
    {
      "cell_type": "code",
      "execution_count": null,
      "id": "7c0bcbd1",
      "metadata": {
        "id": "7c0bcbd1",
        "outputId": "c55254fe-42fa-4414-a561-4749eea84355"
      },
      "outputs": [
        {
          "data": {
            "text/plain": [
              "0.09139197102919094"
            ]
          },
          "execution_count": 84,
          "metadata": {},
          "output_type": "execute_result"
        }
      ],
      "source": [
        "r2_score(y_test, y_pred)"
      ]
    },
    {
      "cell_type": "code",
      "execution_count": null,
      "id": "13453d47",
      "metadata": {
        "id": "13453d47",
        "outputId": "3e489083-8e4b-4e2a-9bd1-25b812152f10"
      },
      "outputs": [
        {
          "data": {
            "text/plain": [
              "(0.10436443255622785, 0.09139197102919094)"
            ]
          },
          "execution_count": 85,
          "metadata": {},
          "output_type": "execute_result"
        }
      ],
      "source": [
        "lReg.score(X_train, y_train), lReg.score(X_test, y_test)"
      ]
    },
    {
      "cell_type": "code",
      "execution_count": null,
      "id": "433f9bfa",
      "metadata": {
        "id": "433f9bfa",
        "outputId": "1bf93746-1ec9-4579-83ea-196feeaf0dc6"
      },
      "outputs": [
        {
          "data": {
            "text/plain": [
              "array([[ 7.55496721e-01, -2.27942301e+00, -7.11677010e+09,\n",
              "        -5.34300609e+02,  1.21127059e+00, -2.21316391e+00,\n",
              "        -1.75529308e+00,  2.44954883e+00, -3.52827841e+01,\n",
              "         5.25168935e-01, -1.40920943e+01, -1.09193433e+02,\n",
              "        -1.47752277e+02,  2.64367825e+02,  1.06476317e+02,\n",
              "        -1.31249786e+01,  5.02111381e-01, -9.50064791e-02,\n",
              "        -2.29957846e-04, -2.21579792e-05,  6.48615349e-03,\n",
              "         1.19567796e-01, -9.73381180e+14, -9.73381180e+14,\n",
              "        -9.73381180e+14, -9.73381180e+14, -9.73381180e+14,\n",
              "        -9.73381180e+14, -9.73381180e+14, -7.81722405e+12,\n",
              "        -7.81722405e+12, -7.81722405e+12, -7.81722405e+12,\n",
              "        -7.81722405e+12,  2.85439324e+02, -1.37843365e+02,\n",
              "         2.36017759e+02, -3.09096294e+02, -4.91314997e+02,\n",
              "        -2.15789646e+01, -3.12705735e+00, -5.97197693e+01,\n",
              "         9.57847213e+01,  2.61304021e+02,  8.00246678e+01]])"
            ]
          },
          "execution_count": 87,
          "metadata": {},
          "output_type": "execute_result"
        }
      ],
      "source": [
        "lReg.coef_"
      ]
    }
  ],
  "metadata": {
    "kernelspec": {
      "display_name": "Python 3",
      "language": "python",
      "name": "python3"
    },
    "language_info": {
      "codemirror_mode": {
        "name": "ipython",
        "version": 3
      },
      "file_extension": ".py",
      "mimetype": "text/x-python",
      "name": "python",
      "nbconvert_exporter": "python",
      "pygments_lexer": "ipython3",
      "version": "3.8.8"
    },
    "colab": {
      "name": "Regression.ipynb",
      "provenance": [],
      "include_colab_link": true
    }
  },
  "nbformat": 4,
  "nbformat_minor": 5
}